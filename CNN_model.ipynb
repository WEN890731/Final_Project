{
 "cells": [
  {
   "cell_type": "markdown",
   "metadata": {},
   "source": [
    "## 問題:\n",
    "讓使用者得知眼前水果包含之營養素。使用者只須拍照輸入，即可輸出水果包含的營養素。\n"
   ]
  },
  {
   "cell_type": "markdown",
   "metadata": {},
   "source": [
    "### 動機:\n",
    "在生活步調忙碌的現代，多數家庭沒時間煮飯而選擇外食。根據國家衛生研究院調查顯示，早餐、午餐的外食人口皆突破千萬。如何從外食中選擇安心又方便的營養餐點是重要生活議題。如何篩選有利自身健康之外時成為國人的一大難題，忙碌的現代人若能有夠快速計算每餐攝取之營養素，將兼顧效率與健康。\n",
    "我們由水果切入此議題，希望透過照片辨認出水果種類，依此結果呈現該項水果的詳細營養資訊，讓使用者知道自己是否吃到足量的營養，以利人們選擇，補充自身所需之營養素。"
   ]
  },
  {
   "cell_type": "markdown",
   "metadata": {},
   "source": [
    "## CNN Model with fruits-360 Data \n",
    "\n",
    "We use cnn neural network to train model with fruits-360 data.\n",
    "\n",
    "[reference](https://www.tensorflow.org/tutorials/images/classification)\n",
    "\n",
    "[keras-losses](https://www.tensorflow.org/api_docs/python/tf/keras/losses)\n",
    "\n",
    "[tf-read_file](https://www.tensorflow.org/api_docs/python/tf/io/read_file)\n"
   ]
  },
  {
   "cell_type": "code",
   "execution_count": 1,
   "metadata": {},
   "outputs": [],
   "source": [
    "# import package（需求套件）\n",
    "%matplotlib inline\n",
    "import tensorflow as tf\n",
    "from tensorflow.keras.models import Sequential\n",
    "from tensorflow.keras.layers import Dense, Conv2D, Flatten, Dropout, MaxPooling2D\n",
    "from tensorflow.keras.preprocessing.image import ImageDataGenerator\n",
    "\n",
    "import os\n",
    "import numpy as np\n",
    "import matplotlib.pyplot as plt"
   ]
  },
  {
   "cell_type": "code",
   "execution_count": 2,
   "metadata": {},
   "outputs": [],
   "source": [
    "# !pip freeze > requirements.txt\n",
    "# !pip install -r requirements.txt"
   ]
  },
  {
   "cell_type": "markdown",
   "metadata": {},
   "source": [
    "### 資料庫:\n",
    "\n",
    "[Fruits 360-Kaggle](https://drive.google.com/drive/folders/1OhHm21HfvHFUppUG52mkI3MUlVPsB7fy)"
   ]
  },
  {
   "cell_type": "markdown",
   "metadata": {},
   "source": [
    "### 資料介紹:\n",
    "* Fruits 360為Kaggle上一組55199張水果照片之資料集，包含train data 41322筆，validation data 13877筆，每張皆包含一種水果，總共81類水果。\n",
    "* 每種水果在白色背景上，依照每分鐘三轉之角速度轉動拍攝20秒，得到單一水果之組圖。而每張圖片大小為100*10pixels。"
   ]
  },
  {
   "cell_type": "code",
   "execution_count": 3,
   "metadata": {
    "scrolled": true
   },
   "outputs": [
    {
     "data": {
      "text/plain": [
       "['Tomato 4',\n",
       " 'Apple Red Delicious',\n",
       " 'Tomato 3',\n",
       " 'Huckleberry',\n",
       " 'Melon Piel de Sapo',\n",
       " 'Pear',\n",
       " 'Cherry 1',\n",
       " 'Strawberry',\n",
       " 'Avocado',\n",
       " 'Tomato 2',\n",
       " 'Pomegranate',\n",
       " 'Dates',\n",
       " 'Carambula',\n",
       " '.DS_Store',\n",
       " 'Granadilla',\n",
       " 'Tamarillo',\n",
       " 'Kiwi',\n",
       " 'Cherry Wax Yellow',\n",
       " 'Lemon',\n",
       " 'Guava',\n",
       " 'Apple Golden 2',\n",
       " 'Apple Red 1',\n",
       " 'Mandarine',\n",
       " 'Quince',\n",
       " 'Strawberry Wedge',\n",
       " 'Pear Monster',\n",
       " 'Raspberry',\n",
       " 'Pitahaya Red',\n",
       " 'Apple Golden 3',\n",
       " 'Grape Pink',\n",
       " 'Banana Red',\n",
       " 'Physalis',\n",
       " 'Cherry Rainier',\n",
       " 'Maracuja',\n",
       " 'Plum',\n",
       " 'Nectarine',\n",
       " 'Cherry Wax Black',\n",
       " 'Cantaloupe 2',\n",
       " 'Lychee',\n",
       " 'Clementine',\n",
       " 'Cherry 2',\n",
       " 'Pineapple Mini',\n",
       " 'Rambutan',\n",
       " 'Grape White',\n",
       " 'Apple Braeburn',\n",
       " 'Tomato Maroon',\n",
       " 'Mango',\n",
       " 'Cocos',\n",
       " 'Mulberry',\n",
       " 'Avocado ripe',\n",
       " 'Tomato 1',\n",
       " 'Passion Fruit',\n",
       " 'Apple Granny Smith',\n",
       " 'Kumquats',\n",
       " 'Grape White 2',\n",
       " 'Apricot',\n",
       " 'Limes',\n",
       " 'Apple Red Yellow',\n",
       " 'Pear Williams',\n",
       " 'Salak',\n",
       " 'Grapefruit Pink',\n",
       " 'Apple Golden 1',\n",
       " 'Banana',\n",
       " 'Apple Red 2',\n",
       " 'Physalis with Husk',\n",
       " 'Lemon Meyer',\n",
       " 'Pepino',\n",
       " 'Tangelo',\n",
       " 'Cactus fruit',\n",
       " 'Papaya',\n",
       " 'Apple Red 3',\n",
       " 'Walnut',\n",
       " 'Pear Abate',\n",
       " 'Pineapple',\n",
       " 'Tomato Cherry Red',\n",
       " 'Cherry Wax Red',\n",
       " 'Orange',\n",
       " 'Kaki',\n",
       " 'Grapefruit White',\n",
       " 'Peach',\n",
       " 'Cantaloupe 1',\n",
       " 'Peach Flat']"
      ]
     },
     "execution_count": 3,
     "metadata": {},
     "output_type": "execute_result"
    }
   ],
   "source": [
    "# Image dataset file name \n",
    "dataSet ='fruits-360'\n",
    "\n",
    "# Use os.listdir to check image folder\n",
    "os.listdir('./fruits-360/Training/')"
   ]
  },
  {
   "cell_type": "code",
   "execution_count": 4,
   "metadata": {},
   "outputs": [],
   "source": [
    "# model training parameter\n",
    "batch_size = 32\n",
    "epochs = 10\n",
    "IMG_HEIGHT = 64\n",
    "IMG_WIDTH = 64"
   ]
  },
  {
   "cell_type": "code",
   "execution_count": 5,
   "metadata": {},
   "outputs": [],
   "source": [
    "train_image_generator = ImageDataGenerator(rescale=1./255) # Generator for our training data\n",
    "validation_image_generator = ImageDataGenerator(rescale=1./255) # Generator for our validation data"
   ]
  },
  {
   "cell_type": "code",
   "execution_count": 6,
   "metadata": {},
   "outputs": [
    {
     "name": "stdout",
     "output_type": "stream",
     "text": [
      "Found 41322 images belonging to 81 classes.\n"
     ]
    }
   ],
   "source": [
    "# Takes the path to a directory(training) & generates batches of augmented data.\n",
    "train_dir = './fruits-360/Training/'\n",
    "train_data_gen = train_image_generator.flow_from_directory(batch_size=batch_size,\n",
    "                                                           directory=train_dir,\n",
    "                                                           shuffle=True,\n",
    "                                                           target_size=(IMG_HEIGHT, IMG_WIDTH),\n",
    "                                                           class_mode='categorical') #categorical=類別"
   ]
  },
  {
   "cell_type": "code",
   "execution_count": 7,
   "metadata": {},
   "outputs": [
    {
     "name": "stdout",
     "output_type": "stream",
     "text": [
      "Found 13877 images belonging to 81 classes.\n"
     ]
    }
   ],
   "source": [
    "# Takes the path to a directory(testing) & generates batches of augmented data.\n",
    "validation_dir = './fruits-360/Test/'\n",
    "val_data_gen = validation_image_generator.flow_from_directory(batch_size=batch_size,\n",
    "                                                              directory=validation_dir,\n",
    "                                                              shuffle=True,\n",
    "                                                              target_size=(IMG_HEIGHT, IMG_WIDTH),\n",
    "                                                              class_mode='categorical')"
   ]
  },
  {
   "cell_type": "code",
   "execution_count": 8,
   "metadata": {},
   "outputs": [],
   "source": [
    "# traing & testing image data counts\n",
    "total_train = 41322\n",
    "total_validation = 13877"
   ]
  },
  {
   "cell_type": "code",
   "execution_count": 9,
   "metadata": {
    "scrolled": true
   },
   "outputs": [
    {
     "data": {
      "text/plain": [
       "{'Apple Braeburn': 0,\n",
       " 'Apple Golden 1': 1,\n",
       " 'Apple Golden 2': 2,\n",
       " 'Apple Golden 3': 3,\n",
       " 'Apple Granny Smith': 4,\n",
       " 'Apple Red 1': 5,\n",
       " 'Apple Red 2': 6,\n",
       " 'Apple Red 3': 7,\n",
       " 'Apple Red Delicious': 8,\n",
       " 'Apple Red Yellow': 9,\n",
       " 'Apricot': 10,\n",
       " 'Avocado': 11,\n",
       " 'Avocado ripe': 12,\n",
       " 'Banana': 13,\n",
       " 'Banana Red': 14,\n",
       " 'Cactus fruit': 15,\n",
       " 'Cantaloupe 1': 16,\n",
       " 'Cantaloupe 2': 17,\n",
       " 'Carambula': 18,\n",
       " 'Cherry 1': 19,\n",
       " 'Cherry 2': 20,\n",
       " 'Cherry Rainier': 21,\n",
       " 'Cherry Wax Black': 22,\n",
       " 'Cherry Wax Red': 23,\n",
       " 'Cherry Wax Yellow': 24,\n",
       " 'Clementine': 25,\n",
       " 'Cocos': 26,\n",
       " 'Dates': 27,\n",
       " 'Granadilla': 28,\n",
       " 'Grape Pink': 29,\n",
       " 'Grape White': 30,\n",
       " 'Grape White 2': 31,\n",
       " 'Grapefruit Pink': 32,\n",
       " 'Grapefruit White': 33,\n",
       " 'Guava': 34,\n",
       " 'Huckleberry': 35,\n",
       " 'Kaki': 36,\n",
       " 'Kiwi': 37,\n",
       " 'Kumquats': 38,\n",
       " 'Lemon': 39,\n",
       " 'Lemon Meyer': 40,\n",
       " 'Limes': 41,\n",
       " 'Lychee': 42,\n",
       " 'Mandarine': 43,\n",
       " 'Mango': 44,\n",
       " 'Maracuja': 45,\n",
       " 'Melon Piel de Sapo': 46,\n",
       " 'Mulberry': 47,\n",
       " 'Nectarine': 48,\n",
       " 'Orange': 49,\n",
       " 'Papaya': 50,\n",
       " 'Passion Fruit': 51,\n",
       " 'Peach': 52,\n",
       " 'Peach Flat': 53,\n",
       " 'Pear': 54,\n",
       " 'Pear Abate': 55,\n",
       " 'Pear Monster': 56,\n",
       " 'Pear Williams': 57,\n",
       " 'Pepino': 58,\n",
       " 'Physalis': 59,\n",
       " 'Physalis with Husk': 60,\n",
       " 'Pineapple': 61,\n",
       " 'Pineapple Mini': 62,\n",
       " 'Pitahaya Red': 63,\n",
       " 'Plum': 64,\n",
       " 'Pomegranate': 65,\n",
       " 'Quince': 66,\n",
       " 'Rambutan': 67,\n",
       " 'Raspberry': 68,\n",
       " 'Salak': 69,\n",
       " 'Strawberry': 70,\n",
       " 'Strawberry Wedge': 71,\n",
       " 'Tamarillo': 72,\n",
       " 'Tangelo': 73,\n",
       " 'Tomato 1': 74,\n",
       " 'Tomato 2': 75,\n",
       " 'Tomato 3': 76,\n",
       " 'Tomato 4': 77,\n",
       " 'Tomato Cherry Red': 78,\n",
       " 'Tomato Maroon': 79,\n",
       " 'Walnut': 80}"
      ]
     },
     "execution_count": 9,
     "metadata": {},
     "output_type": "execute_result"
    }
   ],
   "source": [
    "# folder name & class indeices\n",
    "train_data_gen.class_indices"
   ]
  },
  {
   "cell_type": "code",
   "execution_count": 10,
   "metadata": {},
   "outputs": [],
   "source": [
    "# sample data with train_data_gen\n",
    "sample_training_images, _ = next(train_data_gen) "
   ]
  },
  {
   "cell_type": "code",
   "execution_count": 11,
   "metadata": {},
   "outputs": [
    {
     "data": {
      "text/plain": [
       "(32, 64, 64, 3)"
      ]
     },
     "execution_count": 11,
     "metadata": {},
     "output_type": "execute_result"
    }
   ],
   "source": [
    "# sample data shape (one batch size)\n",
    "sample_training_images.shape #RGB=3"
   ]
  },
  {
   "cell_type": "code",
   "execution_count": 12,
   "metadata": {
    "scrolled": true
   },
   "outputs": [
    {
     "data": {
      "text/plain": [
       "array([[[[1., 1., 1.],\n",
       "         [1., 1., 1.],\n",
       "         [1., 1., 1.],\n",
       "         ...,\n",
       "         [1., 1., 1.],\n",
       "         [1., 1., 1.],\n",
       "         [1., 1., 1.]],\n",
       "\n",
       "        [[1., 1., 1.],\n",
       "         [1., 1., 1.],\n",
       "         [1., 1., 1.],\n",
       "         ...,\n",
       "         [1., 1., 1.],\n",
       "         [1., 1., 1.],\n",
       "         [1., 1., 1.]],\n",
       "\n",
       "        [[1., 1., 1.],\n",
       "         [1., 1., 1.],\n",
       "         [1., 1., 1.],\n",
       "         ...,\n",
       "         [1., 1., 1.],\n",
       "         [1., 1., 1.],\n",
       "         [1., 1., 1.]],\n",
       "\n",
       "        ...,\n",
       "\n",
       "        [[1., 1., 1.],\n",
       "         [1., 1., 1.],\n",
       "         [1., 1., 1.],\n",
       "         ...,\n",
       "         [1., 1., 1.],\n",
       "         [1., 1., 1.],\n",
       "         [1., 1., 1.]],\n",
       "\n",
       "        [[1., 1., 1.],\n",
       "         [1., 1., 1.],\n",
       "         [1., 1., 1.],\n",
       "         ...,\n",
       "         [1., 1., 1.],\n",
       "         [1., 1., 1.],\n",
       "         [1., 1., 1.]],\n",
       "\n",
       "        [[1., 1., 1.],\n",
       "         [1., 1., 1.],\n",
       "         [1., 1., 1.],\n",
       "         ...,\n",
       "         [1., 1., 1.],\n",
       "         [1., 1., 1.],\n",
       "         [1., 1., 1.]]]], dtype=float32)"
      ]
     },
     "execution_count": 12,
     "metadata": {},
     "output_type": "execute_result"
    }
   ],
   "source": [
    "# one sample data with train_data_gen\n",
    "img_tmp = sample_training_images[:1]\n",
    "img_tmp"
   ]
  },
  {
   "cell_type": "code",
   "execution_count": 13,
   "metadata": {},
   "outputs": [
    {
     "data": {
      "text/plain": [
       "<matplotlib.image.AxesImage at 0x7ff0684e8990>"
      ]
     },
     "execution_count": 13,
     "metadata": {},
     "output_type": "execute_result"
    },
    {
     "data": {
      "image/png": "[encoded data removed]",
      "text/plain": [
       "<Figure size 432x288 with 1 Axes>"
      ]
     },
     "metadata": {
      "needs_background": "light"
     },
     "output_type": "display_data"
    }
   ],
   "source": [
    "# show image \n",
    "plt.imshow(img_tmp.reshape([64,64,3]))"
   ]
  },
  {
   "cell_type": "code",
   "execution_count": 14,
   "metadata": {},
   "outputs": [],
   "source": [
    "# This function will plot images in the form of a grid with 1 row and 5 columns where images are placed in each column.\n",
    "def plotImages(images_arr):\n",
    "    fig, axes = plt.subplots(1, 5, figsize=(20,20))\n",
    "    axes = axes.flatten()\n",
    "    for img, ax in zip( images_arr, axes):\n",
    "        ax.imshow(img)\n",
    "        ax.axis('off')\n",
    "    plt.tight_layout()\n",
    "    plt.show()"
   ]
  },
  {
   "cell_type": "code",
   "execution_count": 15,
   "metadata": {},
   "outputs": [
    {
     "data": {
      "image/png": "[encoded data removed]",
      "text/plain": [
       "<Figure size 1440x1440 with 5 Axes>"
      ]
     },
     "metadata": {
      "needs_background": "light"
     },
     "output_type": "display_data"
    }
   ],
   "source": [
    "plotImages(sample_training_images[:5])"
   ]
  },
  {
   "cell_type": "code",
   "execution_count": 16,
   "metadata": {},
   "outputs": [],
   "source": [
    "# model structure\n",
    "model = Sequential([\n",
    "    Conv2D(16, 3, padding='same', activation='relu', input_shape=(IMG_HEIGHT, IMG_WIDTH ,3)),\n",
    "    MaxPooling2D(),\n",
    "    Conv2D(32, 3, padding='same', activation='relu'),\n",
    "    MaxPooling2D(),\n",
    "    Flatten(),\n",
    "    Dense(512, activation='relu'),\n",
    "    Dense(81, activation='softmax')\n",
    "], name='fruit_cnn')"
   ]
  },
  {
   "cell_type": "code",
   "execution_count": 17,
   "metadata": {},
   "outputs": [],
   "source": [
    "# model learning processing\n",
    "model.compile(optimizer='adam',\n",
    "              loss=tf.keras.losses.BinaryCrossentropy(from_logits=True), # CategoricalCrossentropy\n",
    "              metrics=['accuracy'])"
   ]
  },
  {
   "cell_type": "markdown",
   "metadata": {},
   "source": [
    "我們嘗試過使用Categorical Crossentropy作為 loss 函數，但發現準確率很低，因此決定使用Binary Crossentropy，以下為使用Categorical的結果\n",
    "![image1](./p.png)"
   ]
  },
  {
   "cell_type": "code",
   "execution_count": 18,
   "metadata": {},
   "outputs": [
    {
     "name": "stdout",
     "output_type": "stream",
     "text": [
      "Model: \"fruit_cnn\"\n",
      "_________________________________________________________________\n",
      "Layer (type)                 Output Shape              Param #   \n",
      "=================================================================\n",
      "conv2d (Conv2D)              (None, 64, 64, 16)        448       \n",
      "_________________________________________________________________\n",
      "max_pooling2d (MaxPooling2D) (None, 32, 32, 16)        0         \n",
      "_________________________________________________________________\n",
      "conv2d_1 (Conv2D)            (None, 32, 32, 32)        4640      \n",
      "_________________________________________________________________\n",
      "max_pooling2d_1 (MaxPooling2 (None, 16, 16, 32)        0         \n",
      "_________________________________________________________________\n",
      "flatten (Flatten)            (None, 8192)              0         \n",
      "_________________________________________________________________\n",
      "dense (Dense)                (None, 512)               4194816   \n",
      "_________________________________________________________________\n",
      "dense_1 (Dense)              (None, 81)                41553     \n",
      "=================================================================\n",
      "Total params: 4,241,457\n",
      "Trainable params: 4,241,457\n",
      "Non-trainable params: 0\n",
      "_________________________________________________________________\n"
     ]
    }
   ],
   "source": [
    "model.summary()"
   ]
  },
  {
   "cell_type": "code",
   "execution_count": 19,
   "metadata": {
    "scrolled": false
   },
   "outputs": [
    {
     "name": "stdout",
     "output_type": "stream",
     "text": [
      "WARNING:tensorflow:From <ipython-input-19-d1a0bce5e99a>:7: Model.fit_generator (from tensorflow.python.keras.engine.training) is deprecated and will be removed in a future version.\n",
      "Instructions for updating:\n",
      "Please use Model.fit, which supports generators.\n",
      "WARNING:tensorflow:sample_weight modes were coerced from\n",
      "  ...\n",
      "    to  \n",
      "  ['...']\n",
      "WARNING:tensorflow:sample_weight modes were coerced from\n",
      "  ...\n",
      "    to  \n",
      "  ['...']\n",
      "Train for 1291 steps, validate for 433 steps\n",
      "Epoch 1/10\n",
      "1291/1291 [==============================] - 227s 176ms/step - loss: 0.6939 - accuracy: 0.9913 - val_loss: 0.6922 - val_accuracy: 0.9943\n",
      "Epoch 2/10\n",
      "1291/1291 [==============================] - 238s 184ms/step - loss: 0.6915 - accuracy: 0.9958 - val_loss: 0.6915 - val_accuracy: 0.9951\n",
      "Epoch 3/10\n",
      "1291/1291 [==============================] - 229s 177ms/step - loss: 0.6906 - accuracy: 0.9967 - val_loss: 0.6905 - val_accuracy: 0.9967\n",
      "Epoch 4/10\n",
      "1291/1291 [==============================] - 226s 175ms/step - loss: 0.6897 - accuracy: 0.9982 - val_loss: 0.6899 - val_accuracy: 0.9974\n",
      "Epoch 5/10\n",
      "1291/1291 [==============================] - 221s 171ms/step - loss: 0.6891 - accuracy: 0.9991 - val_loss: 0.6893 - val_accuracy: 0.9987\n",
      "Epoch 6/10\n",
      "1291/1291 [==============================] - 217s 168ms/step - loss: 0.6890 - accuracy: 0.9993 - val_loss: 0.6892 - val_accuracy: 0.9989\n",
      "Epoch 7/10\n",
      "1291/1291 [==============================] - 211s 164ms/step - loss: 0.6893 - accuracy: 0.9983 - val_loss: 0.6896 - val_accuracy: 0.9977\n",
      "Epoch 8/10\n",
      "1291/1291 [==============================] - 191s 148ms/step - loss: 0.6891 - accuracy: 0.9990 - val_loss: 0.6892 - val_accuracy: 0.9988\n",
      "Epoch 9/10\n",
      "1291/1291 [==============================] - 222s 172ms/step - loss: 0.6890 - accuracy: 0.9992 - val_loss: 0.6900 - val_accuracy: 0.9968\n",
      "Epoch 10/10\n",
      "1291/1291 [==============================] - 211s 163ms/step - loss: 0.6890 - accuracy: 0.9990 - val_loss: 0.6893 - val_accuracy: 0.9984\n"
     ]
    }
   ],
   "source": [
    "# model.fit  \n",
    "history = model.fit_generator(\n",
    "    train_data_gen,\n",
    "    steps_per_epoch = total_train // batch_size,\n",
    "    epochs = epochs,\n",
    "    validation_data = val_data_gen,\n",
    "    validation_steps = total_validation // batch_size\n",
    ")"
   ]
  },
  {
   "cell_type": "code",
   "execution_count": 20,
   "metadata": {
    "scrolled": false
   },
   "outputs": [
    {
     "data": {
      "image/png": "[encoded data removed]",
      "text/plain": [
       "<Figure size 1152x576 with 2 Axes>"
      ]
     },
     "metadata": {
      "needs_background": "light"
     },
     "output_type": "display_data"
    }
   ],
   "source": [
    "# Training and Validation Accuracy & Training and Validation Loss\n",
    "acc = history.history['accuracy']\n",
    "val_acc = history.history['val_accuracy']\n",
    "\n",
    "loss=history.history['loss']\n",
    "val_loss=history.history['val_loss']\n",
    "\n",
    "epochs_range = range(epochs)\n",
    "\n",
    "plt.figure(figsize=(16, 8))\n",
    "plt.subplot(1, 2, 1)\n",
    "plt.plot(epochs_range, acc, label='Training Accuracy')\n",
    "plt.plot(epochs_range, val_acc, label='Validation Accuracy')\n",
    "plt.legend(loc='lower right')\n",
    "plt.title('Training and Validation Accuracy')\n",
    "\n",
    "plt.subplot(1, 2, 2)\n",
    "plt.plot(epochs_range, loss, label='Training Loss')\n",
    "plt.plot(epochs_range, val_loss, label='Validation Loss')\n",
    "plt.legend(loc='upper right')\n",
    "plt.title('Training and Validation Loss')\n",
    "plt.show()"
   ]
  },
  {
   "cell_type": "markdown",
   "metadata": {},
   "source": [
    "## Model Save Code\n",
    "\n",
    "* this function will save cnn model to folder named model"
   ]
  },
  {
   "cell_type": "code",
   "execution_count": 21,
   "metadata": {},
   "outputs": [],
   "source": [
    "# save model with tensorflow 2.0\n",
    "model.save('./model/my_model_0529.h5') "
   ]
  },
  {
   "cell_type": "markdown",
   "metadata": {},
   "source": [
    "## Input image and show something blablabla...\n"
   ]
  },
  {
   "cell_type": "code",
   "execution_count": 22,
   "metadata": {},
   "outputs": [],
   "source": [
    "def decode_img(img):\n",
    "  # convert the compressed string to a 3D uint8 tensor\n",
    "  img = tf.image.decode_jpeg(img, channels=3)\n",
    "  # Use `convert_image_dtype` to convert to floats in the [0,1] range.\n",
    "  img = tf.image.convert_image_dtype(img, tf.float32)\n",
    "  # resize the image to the desired size.\n",
    "  return tf.image.resize(img, [IMG_WIDTH, IMG_HEIGHT])"
   ]
  },
  {
   "cell_type": "code",
   "execution_count": 23,
   "metadata": {
    "scrolled": true
   },
   "outputs": [
    {
     "data": {
      "text/plain": [
       "<tf.Tensor: shape=(), dtype=string, numpy=b'\\xff\\xd8\\xff\\xe0\\x00\\x10JFIF\\x00\\x01\\x01\\x00\\x00\\x01\\x00\\x01\\x00\\x00\\xff\\xdb\\x00C\\x00\\x02\\x01\\x01\\x01\\x01\\x01\\x02\\x01\\x01\\x01\\x02\\x02\\x02\\x02\\x02\\x04\\x03\\x02\\x02\\x02\\x02\\x05\\x04\\x04\\x03\\x04\\x06\\x05\\x06\\x06\\x06\\x05\\x06\\x06\\x06\\x07\\t\\x08\\x06\\x07\\t\\x07\\x06\\x06\\x08\\x0b\\x08\\t\\n\\n\\n\\n\\n\\x06\\x08\\x0b\\x0c\\x0b\\n\\x0c\\t\\n\\n\\n\\xff\\xdb\\x00C\\x01\\x02\\x02\\x02\\x02\\x02\\x02\\x05\\x03\\x03\\x05\\n\\x07\\x06\\x07\\n\\n\\n\\n\\n\\n\\n\\n\\n\\n\\n\\n\\n\\n\\n\\n\\n\\n\\n\\n\\n\\n\\n\\n\\n\\n\\n\\n\\n\\n\\n\\n\\n\\n\\n\\n\\n\\n\\n\\n\\n\\n\\n\\n\\n\\n\\n\\n\\n\\n\\xff\\xc0\\x00\\x11\\x08\\x00d\\x00d\\x03\\x01\"\\x00\\x02\\x11\\x01\\x03\\x11\\x01\\xff\\xc4\\x00\\x1f\\x00\\x00\\x01\\x05\\x01\\x01\\x01\\x01\\x01\\x01\\x00\\x00\\x00\\x00\\x00\\x00\\x00\\x00\\x01\\x02\\x03\\x04\\x05\\x06\\x07\\x08\\t\\n\\x0b\\xff\\xc4\\x00\\xb5\\x10\\x00\\x02\\x01\\x03\\x03\\x02\\x04\\x03\\x05\\x05\\x04\\x04\\x00\\x00\\x01}\\x01\\x02\\x03\\x00\\x04\\x11\\x05\\x12!1A\\x06\\x13Qa\\x07\"q\\x142\\x81\\x91\\xa1\\x08#B\\xb1\\xc1\\x15R\\xd1\\xf0$3br\\x82\\t\\n\\x16\\x17\\x18\\x19\\x1a%&\\'()*456789:CDEFGHIJSTUVWXYZcdefghijstuvwxyz\\x83\\x84\\x85\\x86\\x87\\x88\\x89\\x8a\\x92\\x93\\x94\\x95\\x96\\x97\\x98\\x99\\x9a\\xa2\\xa3\\xa4\\xa5\\xa6\\xa7\\xa8\\xa9\\xaa\\xb2\\xb3\\xb4\\xb5\\xb6\\xb7\\xb8\\xb9\\xba\\xc2\\xc3\\xc4\\xc5\\xc6\\xc7\\xc8\\xc9\\xca\\xd2\\xd3\\xd4\\xd5\\xd6\\xd7\\xd8\\xd9\\xda\\xe1\\xe2\\xe3\\xe4\\xe5\\xe6\\xe7\\xe8\\xe9\\xea\\xf1\\xf2\\xf3\\xf4\\xf5\\xf6\\xf7\\xf8\\xf9\\xfa\\xff\\xc4\\x00\\x1f\\x01\\x00\\x03\\x01\\x01\\x01\\x01\\x01\\x01\\x01\\x01\\x01\\x00\\x00\\x00\\x00\\x00\\x00\\x01\\x02\\x03\\x04\\x05\\x06\\x07\\x08\\t\\n\\x0b\\xff\\xc4\\x00\\xb5\\x11\\x00\\x02\\x01\\x02\\x04\\x04\\x03\\x04\\x07\\x05\\x04\\x04\\x00\\x01\\x02w\\x00\\x01\\x02\\x03\\x11\\x04\\x05!1\\x06\\x12AQ\\x07aq\\x13\"2\\x81\\x08\\x14B\\x91\\xa1\\xb1\\xc1\\t#3R\\xf0\\x15br\\xd1\\n\\x16$4\\xe1%\\xf1\\x17\\x18\\x19\\x1a&\\'()*56789:CDEFGHIJSTUVWXYZcdefghijstuvwxyz\\x82\\x83\\x84\\x85\\x86\\x87\\x88\\x89\\x8a\\x92\\x93\\x94\\x95\\x96\\x97\\x98\\x99\\x9a\\xa2\\xa3\\xa4\\xa5\\xa6\\xa7\\xa8\\xa9\\xaa\\xb2\\xb3\\xb4\\xb5\\xb6\\xb7\\xb8\\xb9\\xba\\xc2\\xc3\\xc4\\xc5\\xc6\\xc7\\xc8\\xc9\\xca\\xd2\\xd3\\xd4\\xd5\\xd6\\xd7\\xd8\\xd9\\xda\\xe2\\xe3\\xe4\\xe5\\xe6\\xe7\\xe8\\xe9\\xea\\xf2\\xf3\\xf4\\xf5\\xf6\\xf7\\xf8\\xf9\\xfa\\xff\\xda\\x00\\x0c\\x03\\x01\\x00\\x02\\x11\\x03\\x11\\x00?\\x00\\xfd\\xfc\\xa2\\x8a(\\x00\\xa2\\x8a(\\x00\\xa2\\x8a(\\x00\\xa2\\x8a(\\x00\\xa2\\x8a(\\x00\\xa2\\x8a(\\x00\\xa2\\x8a(\\x01\\xa2hL\\xa6\\x01*\\xef\\x03%7s\\x8f\\\\S\\xab\\xf1\\xfb\\xe2\\x97\\xed\\x0b\\xe3\\x8f\\x19\\xff\\x00\\xc1s\\xfe\\x1b\\xfcV\\xfd\\x9d\\xafM\\xc6\\x9d\\xe2k\\xb1\\xe1\\xe9.-\\xf5i \\xb2\\xd5,a\\x82Fd\\x9d\\x82\\x13\\xb5\\xf6\\xac\\x81v\\x1c\\xb4C$W\\xec\\rD*F\\xa5\\xed\\xd1\\xb5\\xf3F\\xd5\\xa8\\xba<\\xb7{\\xa4\\xfd/\\xd0(\\xa2\\x8a\\xb3\\x10\\xa2\\x8a(\\x00\\xa2\\x8a(\\x00\\xa2\\x8a(\\x00\\xa2\\x8a(\\x00\\xa2\\x8a(\\x03\\xf1\\x97\\xfe\\n\\x1d\\xe1\\x7f\\x88\\x9f\\xb2\\x07\\xed\\x92|}\\xf0Mt\\xab=CB\\xf1\\x04z\\xff\\x00\\x86\\xed\\xac\\xecP[ZC*\\xc8\\xa2\\x03\\x11]\\xa0lfR\\x00\\xc0\\xceG W\\xe8\\'\\xece\\xff\\x00\\x059\\xf8\\x15\\xfbS\\xf8kM\\xd3|E\\xaa\\xc1\\xe1\\x1f\\x1b=\\x9a\\xb6\\xa7\\xe1\\xad^_)D\\xde`\\x8b\\x10L\\xc7\\xcb\\x98;a\\x91\\x15\\x8c\\x9bXnPA\\x03\\xe2\\xdf\\xdb\\xff\\x00\\xc4:\\x97\\xc4\\xdf\\xda\\xab\\xc5\\xd2k\\xd0@\\x9f\\xd97\\x8d\\xa6[\\x0bt 40\\x12\\xa8\\xcd\\x92r\\xc4\\x1eH\\xc0\\xf6\\x15\\xf2\\xfd\\xce\\x9d\\xa4\\xf8\\x85\\xae-\\xec\\xe5\\x9a\\x1b\\x9b\\x0b\\x82\\xa0\\x8c\\xc54.\\xa7\\xe5`F\\n\\xf6ea\\xdb\\x04W\\xe0\\xab\\x8eq|5\\x9f\\xe3)*\\\\\\xf8wVM\\xea\\xee\\xae\\xec\\xec\\xf5\\xb6\\xa9\\xe8\\xf4\\xf4>\\x9a9\\\\\\xb1\\xd4\\xa1);>U\\xaf\\xe5s\\xfa\\x08\\xa2\\xbf/?a\\xcf\\xf8+\\x9f\\x8d~\\x17kr|3\\xfd\\xaf\\xb5\\x97\\xd4\\xfc6\\xb6\\xa8\\x9a?\\x89\"\\xb4-wk\"\\x8d\\xbe\\\\\\xdb~Y#*\\x10\\x03\\x80\\xc0\\xee,\\xcd\\x91\\x8f\\xd3\\x1f\\x07x\\xc7\\xc2\\xdf\\x10<1c\\xe3O\\x05k\\xd6\\xba\\x9e\\x95\\xa9[-\\xc5\\x85\\xfd\\x9c\\xc2H\\xa7\\x89\\x86C+\\x0e\\x085\\xfb&O\\x9d\\xe5\\xb9\\xee\\x15W\\xc2MIu]W\\x93_\\xd2}\\x19\\xe2b\\xf0X\\x8c\\x15NJ\\xaa\\xdd\\x9fG\\xe8\\xcd*(\\xa2\\xbdc\\x90(\\xa2\\xab\\xea\\x9a\\xae\\x9b\\xa2i\\xb7\\x1a\\xc6\\xb1}\\x15\\xb5\\xad\\xa4\\x0f5\\xcd\\xc4\\xee\\x15\"\\x8dAff\\'\\xa0\\x00\\x12O\\xb5\\x00X\\xa2\\xbeY\\xf8\\xd5\\xff\\x00\\x05g\\xfd\\x9e~\\x1aj?\\xd8\\xde\\x04\\xb6\\xb8\\xf1\\x9d\\xcaI\\xb6i4\\xab\\x85K}\\xa5A\\x0c\\x93\\x10\\xcb\\'\\\\q\\xd0\\x83_\\x1a\\xfci\\xff\\x00\\x82\\x80~\\xd5\\x7f\\x1c%\\xbd\\xb3\\x9b\\xc6\\x87\\xc3\\xda-\\xf5\\xb0\\xb7\\x9bH\\xd0\\xe3\\x11\\xa1P\\xc4\\xee\\xf3\\x1bt\\x81\\x8f\\x19!\\x80\\xe3\\x80+\\xe2\\xf3\\xde?\\xe1\\xac\\x86\\xf1\\xabW\\x9e\\x7f\\xcb\\x0bI\\xfc\\xdd\\xec\\xbe\\xfb\\xf9\\x1e\\xae\\x13&\\xc7b\\xf5Q\\xe5]\\xde\\x9f\\xf0O\\xd5\\x0f\\x1d|V\\xf8m\\xf0\\xca\\xd1\\xef<}\\xe3\\xad+I\\tm%\\xc2\\xc5}}\\x1crI\\x1a\\x02X\\xa2\\x13\\xb9\\xfatPI<u\\xaf\\x96~6\\xff\\x00\\xc1o\\xbfc_\\x82\\x9a\\x9e\\x92\\xf7\\xb7z\\xc6\\xa9\\xa2_\\xdc\\xc3\\x16\\xa1\\xaf\\xd9\\xd8:E\\xa7\\x07\\x93ag\\x8a@%\\x90(\\xf9\\x88\\x8dX\\x90p2x\\xaf\\xcc\\xff\\x00\\x89\\x9f\\x11u\\x88\\xee!\\xb6\\xd5\\xef\\xf5m\\x7fQ\\xdaV\\xda+\\x8b\\x89&\\xf2\\xc63\\xf33\\x13\\xe5\\xaf\\x1dz\\x13\\x8a\\xf3}c\\xc1\\xf2\\xf8\\xb2\\xe6-g\\xc72\\xad\\xc4\\xb1\\x8c\\xfd\\x8c\\x7f\\xa9\\x84g \\x05=N1\\x92s\\xcfLW\\xc8\\xd0\\xf1RX\\xba\\xf0\\x940\\xdc\\x94\\x9f\\xf3;\\xcaK\\xfb\\xa9Y/W\\xa7\\xa9\\xec>\\x18p\\xa2\\xe5*\\x97~\\x87\\xf4\\x19\\xf0\\x1b\\xe3\\xf7\\xc2\\x8f\\xdac\\xe1\\xbd\\x9f\\xc5\\xbf\\x82\\xde(\\x1a\\xc6\\x81~\\xcc\\xb6\\xb7\\xc2\\xdaH\\xb7\\x91\\x8c\\x8d\\xb2*\\xb0\\xea:\\x8a+\\xe5\\x1f\\xf8#\\xf7\\xc0\\x7f\\x19\\xe9\\xff\\x00\\xb1\\xd5\\xbe\\xa7\\x1f\\x8e|E\\xe1k-[\\xc47w\\xda^\\x9f\\xa7\\x1bs\\x0c\\xb6\\xce\\xb1\\x05\\x99D\\xb19\\x01\\x8a\\xb0\\xc08\\xf9x\\x1dh\\xaf\\xd80\\xf5!\\x89\\xc3\\xc2\\xaf\\xc3\\xcc\\x93\\xb3\\xdd]\\'gc\\xe4*{Jsp\\xb5\\xec\\xedt\\xd1\\xe2\\xff\\x00\\xf0R\\xbf\\x86\\x16\\xff\\x00\\r\\xff\\x00i\\xcdR\\xeciW\\xa9\\xa6\\xf8\\xae\\x13\\xa8Gsy(d\\xb9\\x99\\xbf\\xe3\\xe1c\\xc7!T\\xb2\\x8c\\x11\\xc6\\xe1\\xc9\\xaf\\x9a.\\xfc\\x03\\xa1%\\xe4Z\\xbe\\x8fn-\\xe6\\x86\\xdc@\\xa18\\x061\\xc0S\\xec8\\xfc\\xab\\xf5\\xdf\\xf6\\xdd\\xfd\\x94\\xf4\\xdf\\xda\\x8b\\xe1c\\xe9zt\\x16px\\x93L\\xcc\\xda\\x1e\\xa34#x8\\xf9\\xa0\\xf31\\xb9Q\\xf8\\xc8\\x1c\\x16U\\'\\xa6G\\xe4\\xff\\x00\\x8d<3\\xe3o\\x85^$\\xb8\\xf0o\\x8f\\xb4\\x1b\\xad7P\\xb4\\x94\\xa4\\xb6\\xf7)\\x83\\x90z\\x83\\xd1\\x87\\xb8$\\x1e\\xc6\\xbf\\x9d|H\\xe1\\xcc\\xc7,\\xcc\\xaaf\\x14\"\\xe5B\\xae\\xae\\xdfe\\xbd\\xd3\\xf2{\\xa7\\xf2>\\xd7&\\xc6\\xd3\\xaf\\x87T[\\xb4\\x97\\xe2\\x8ef\\xf7\\xc3\\x11^+-\\xe5\\xb0c\\xd3$pko\\xe0o\\xc6\\x0f\\x8f\\x1f\\xb2\\xcf\\x89\\x9f\\xc4?\\x05~!^i\\xf1\\xcf<r\\xde\\xe921{;\\xc3\\x1a\\xba\\xa2\\xcb\\x1eF\\xe5Q#`drh\\xb6\\xd6\\xa1-\\xb5\\xb6\\x9c\\xf5\\x07\\xa1\\xa9\\xa4\\x97O\\x9d9\\x8b\\x07\\xd4\\x0c\\xd7\\xe5\\x98,\\xe74\\xca\\xab\\xfb\\\\-IA\\xf96\\x8f~P\\x84\\xe1\\xc9V*Q\\xf3\\xd4\\xfaW\\xe1\\xaf\\xfc\\x16\\xab\\xf6\\x84\\xf0\\xc6\\x93q\\x07\\xc5o\\x84\\xda/\\x89n\\x9e}\\xd6\\xf7V\\x17m\\xa7\\xacq\\xff\\x00t\\xa0I7\\x1f|\\x8f\\xa5tv\\xdf\\xf0]\\x0f\\x1b\\xcf!\\r\\xfb-Y\\x84\\xcf\\xca\\xc3\\xc5ns\\xff\\x00\\x92\\xd5\\xf1\\xf1:#I\\xe4\\x9b\\x88\\xf7\\x8e\\xbb\\xba\\xd5\\x98\\xadt\\x95\\x00\\xf9\\xcb\\x8czW\\xd8C\\xc5^0\\xc3\\xd3\\xe5u\\x13\\xf3qM\\xfeH\\xe0\\x96K\\x94M\\xdf\\xd9\\xdb\\xd1\\xb3\\xea\\x0f\\x1f\\xff\\x00\\xc1d\\x7fh\\x1f\\x12Ig/\\xc3_\\x87\\x9a7\\x87\\x12%q{\\x15\\xeb\\xb5\\xf9\\x9c\\x9d\\xbbJ\\x92\\xb1\\xec\\xdb\\x86\\xc8\\xe7;\\xbbc\\x9f\\x01\\xf8\\x97\\xf1\\xab\\xe3W\\xc7mU\\xf5\\x9f\\x8a^>\\xbf\\xd4\\x1c\\xcb#\\xc1n\\xd3\\x11\\x15\\xb2\\xbb\\x161\\xc6\\xb9\\xf9Pg\\x00s\\x81X&m&\\xdb\\xfdY\\xdf\\x91\\xd9j\\x0b\\x8d~+pV\\x08U}\\x0e3_?\\x99\\xf1\\xc7\\x15\\xe7Qp\\xad^\\\\\\xaf\\xa2\\xf7W\\xcdF\\xdf\\x8d\\xce\\x9a\\x19~_\\x86w\\xa7M_\\xbe\\xef\\xf1%\\xb7\\xd2\\xac\\xec\\x93s\\xae09&\\xa8\\xea\\x9a\\xfd\\xb4D\\xc1o\\x82\\x08\\xfb\\xd9\\xacO\\x10x\\xcd,\\xa2y\\xae\\xeex\\xe8\\x179\\xfc+\\x85\\xff\\x00\\x85\\xbf\\xa3j\\xa2i\\xac\\xae\\x90\\xa4D\\xab6;\\x8e\\xb85\\xe4\\xe1r\\xccV%\\xb9\\xb4\\xdd\\xbe\\xedON\\x11l\\xea\\xb5\\xfd^\\xca\\xc82!@\\xcd\\xfcG\\xa9\\xa5\\xfd\\x9d>\\x0fx\\xa7\\xf6\\xb4\\xf8\\xef\\xa4|\\t\\xf0T\\xb2\\xc2u\\x0b\\xa5:\\xae\\xa5\\x0c\\x1e`\\xb0\\xb5\\x04\\x19&# \\x12\\x17$)#8\\xc6k\\x9d\\xf8C\\xf0\\x8b\\xe3\\xb7\\xed\\x91\\xf1\\x02\\x1f\\x00\\xfc\\x02\\xf0M\\xce\\xa6R\\xe9#\\xbf\\xd56m\\xb4\\xb0V\\xea\\xf2Jp\\xa3\\nKm\\x07q\\x00\\xe0\\x1a\\xfd\\xaf\\xfd\\x83\\x7f`\\xdf\\x86\\x1f\\xb0\\xd7\\xc3\\x11\\xe1\\xcf\\x0c\\xc6\\x9a\\x87\\x8955Y|O\\xe2Y\\x972\\xde\\xcd\\x81\\xf2)<\\xa4+\\x80\\x15\\x06\\x07\\x05\\x88\\xdc\\xc6\\xbfl\\xe0^\\x03\\xadRp\\xc6cch-R}Z\\xfd\\x0f\\x9e\\xce\\xf3j8jr\\xa3I\\xde\\xa3\\xfc/\\xfa\\x9e\\xbb\\xf0\\xef\\xc0~\\x1c\\xf8_\\xe0m+\\xe1\\xef\\x84t\\xd8l\\xf4\\xdd\"\\xc9-\\xad-\\xed\\xe3\\xd8\\x88\\xaa;/l\\x9c\\x9c{\\xd1[4W\\xef)$\\xac\\x8f\\x81\\n\\xf3O\\xda3\\xf6N\\xf85\\xfbO\\xf8yto\\x89>\\x1e\\x06\\xe6\\t7\\xd9\\xea\\xd6dGsn\\xd8\\xdb\\x90\\xdd\\x18m\\xc8\\xc3\\x06\\x1e\\xd9\\xafK\\xa2\\xa2\\xad*u\\xa9\\xb8T\\x8a\\x94^\\xe9\\xab\\xa7\\xf2eFR\\x84\\x94\\xa2\\xec\\xcf\\xc9\\xbf\\xda7\\xfe\\ta\\xfbJ\\xfc\\x16\\x9d\\xf5\\xaf\\x87\\xba|\\x9e6\\xd1\\xf7\\xae\\xd3\\xa4[\\xb3]F]\\xd8\\x040.Y\\x82\\xa8R\\xce>^{W\\xcc\\x17>*\\x93H\\xbe\\x97M\\xd5b\\x92\\xdax$)4S)V\\x8d\\x87PA\\xe8k\\xfa\\x03\\xeb\\xd6\\xb8\\xef\\x8a\\x1f\\xb3\\xdf\\xc1\\x1f\\x8d:\\x14~\\x19\\xf8\\xa9\\xf0\\xbfF\\xd6\\xec\"\\xbc[\\xa8\\xed\\xaf,\\xd4\\xa8\\x99U\\x94?\\x189\\x01\\xd8~5\\xf9\\x8eu\\xe1^G\\x98M\\xd4\\xc2\\xb7JO\\xa6\\xf1\\xfb\\xb7G\\xbf\\x84\\xe2\\x1cE\\x18\\xf2\\xd6\\\\\\xcb\\xeeg\\xf3\\xf7\\xe2\\x7f\\x08\\xe8\\x1e#\\xf1\\xa4~5\\x83\\xc4\\xb7\\xf6w\\x8a#\\xc8\\x82\\xec\\x84\\xf9YI;NW,\\xa0\\xa1\\xc8\\xc6\\x18\\x91\\xce\\rv\\xad\\xe3M2\\xda Z\\xedA\\x03\\x1c\\x9e\\xb5\\xfa\\x91\\xf1\\x1f\\xfe\\x08\\x9b\\xfb\\r|D\\xf1t\\xfe,M\\x0b\\xc4:\\x00\\x9e(\\xd0i~\\x1b\\xd6E\\xb5\\x9c{T.R3\\x1b`\\x9cd\\x9c\\xf2I\\xaev\\xeb\\xfe\\x08\\x17\\xfb\\x0c\\xdd\\xc6b\\x97X\\xf8\\x81\\xb4\\x9e\\x83\\xc5+\\xff\\x00\\xc6k\\xe61~\\x15\\xe78\\x95\\ns\\xaf\\x19F\\n\\xd1\\xe9e\\xbd\\xbe\\x1b\\xfd\\xed\\x9e\\xad>!\\xcb\\xadw\\x19\\'\\xe9\\x7f\\xd4\\xfc\\xc8\\xbd\\xf8\\x97\\xa5\\xc0\\xa4\\x8b\\xc5\\xe0r7\\xd7-\\xe2\\x1f\\x8e\\xbe\\x1f\\xb1Vi\\xf5T\\x18\\xfb\\xdf>+\\xf5E\\xff\\x00\\xe0\\xdeo\\xd8\\x15\\xdbsj\\x9f\\x10\\xcf\\xa8\\xff\\x00\\x84\\xadp\\x7f\\xf2\\x05{G\\xc3\\xbf\\xf8%\\x9f\\xec\\x0b\\xf0\\xca]\\x1bQ\\xf0\\xf7\\xec\\xd1\\xe1\\xd95=\\r\"\\xfb&\\xb3{k\\xe6\\xdd<\\x91\\xa8\\x02g~\\x8d!\\xc6I\\xc7$\\x9e+\\xa3\\x05\\xe1\\x0f,\\xff\\x00\\x7fU%\\xe5\\xa8O\\x89pq\\x8f\\xb9\\x06\\xdf\\xdc~&\\xfc*\\xf8\\x1d\\xfbQ~\\xd9\\x97\\x11[|\\x04\\xf8I\\xae\\xebzl\\xda\\x87\\xd8\\xa5\\xd6\\xe0\\xb5t\\xb0\\x82l)\\xdb-\\xce6G\\x85e\\'$`\\x1c\\xd7\\xdd?\\xb1\\xbf\\xfc\\x1b\\xe1q\\xa2j\\xdaO\\x8d?k\\xef\\x1a\\xda\\xdfYG\\x02\\xcdu\\xe0M\\x18\\xb2\\xc7\\xe7r\\x1a\\x19\\xee\\x15\\x89\\x95:\\x1c\\xc6P\\xe7\\xbd~\\xa1i\\xdaN\\x97\\xa4Bm\\xf4\\x9d6\\xde\\xd66m\\xcc\\x96\\xf0\\xaa\\x02}p\\xa0sV+\\xf4\\\\\\xa3\\x83r\\\\\\xa6\\tF\\x1c\\xed\\x7f6\\xdfv\\xdf}\\xcf\\x1b\\x1b\\xc48\\xfcZ\\xe5\\x8b\\xe4\\x8fe\\xfeg7\\xf0\\xb7\\xe0\\xff\\x00\\xc2\\xef\\x82~\\x16\\xb7\\xf0W\\xc2\\x7f\\x02i\\xba\\x0e\\x99ko\\x14\\x11\\xdb\\xe9\\xf6\\xc1\\x0b$h\\x117\\xbf\\xde\\x91\\x82\\x8cnrX\\xf7&\\xbaJ(\\xaf\\xaaI%dxm\\xb6\\xee\\xc2\\x8a(\\xa6 \\xa2\\x8a(\\x00\\xa2\\x8a(\\x00\\xa2\\x8a(\\x00\\xa2\\x8a(\\x00\\xa2\\x8a(\\x00\\xa2\\x8a(\\x00\\xa2\\x8a(\\x00\\xa2\\x8a(\\x00\\xa2\\x8a(\\x00\\xa2\\x8a(\\x00\\xa2\\x8a(\\x00\\xa2\\x8a(\\x00\\xa2\\x8a(\\x00\\xa2\\x8a(\\x03\\xff\\xd9'>"
      ]
     },
     "execution_count": 23,
     "metadata": {},
     "output_type": "execute_result"
    }
   ],
   "source": [
    "file_path= './example/banana.jpg' \n",
    "\n",
    "# read file with tf.io.read_file\n",
    "img = tf.io.read_file(file_path)\n",
    "img"
   ]
  },
  {
   "cell_type": "code",
   "execution_count": 24,
   "metadata": {
    "scrolled": true
   },
   "outputs": [
    {
     "data": {
      "text/plain": [
       "<tf.Tensor: shape=(64, 64, 3), dtype=float32, numpy=\n",
       "array([[[1., 1., 1.],\n",
       "        [1., 1., 1.],\n",
       "        [1., 1., 1.],\n",
       "        ...,\n",
       "        [1., 1., 1.],\n",
       "        [1., 1., 1.],\n",
       "        [1., 1., 1.]],\n",
       "\n",
       "       [[1., 1., 1.],\n",
       "        [1., 1., 1.],\n",
       "        [1., 1., 1.],\n",
       "        ...,\n",
       "        [1., 1., 1.],\n",
       "        [1., 1., 1.],\n",
       "        [1., 1., 1.]],\n",
       "\n",
       "       [[1., 1., 1.],\n",
       "        [1., 1., 1.],\n",
       "        [1., 1., 1.],\n",
       "        ...,\n",
       "        [1., 1., 1.],\n",
       "        [1., 1., 1.],\n",
       "        [1., 1., 1.]],\n",
       "\n",
       "       ...,\n",
       "\n",
       "       [[1., 1., 1.],\n",
       "        [1., 1., 1.],\n",
       "        [1., 1., 1.],\n",
       "        ...,\n",
       "        [1., 1., 1.],\n",
       "        [1., 1., 1.],\n",
       "        [1., 1., 1.]],\n",
       "\n",
       "       [[1., 1., 1.],\n",
       "        [1., 1., 1.],\n",
       "        [1., 1., 1.],\n",
       "        ...,\n",
       "        [1., 1., 1.],\n",
       "        [1., 1., 1.],\n",
       "        [1., 1., 1.]],\n",
       "\n",
       "       [[1., 1., 1.],\n",
       "        [1., 1., 1.],\n",
       "        [1., 1., 1.],\n",
       "        ...,\n",
       "        [1., 1., 1.],\n",
       "        [1., 1., 1.],\n",
       "        [1., 1., 1.]]], dtype=float32)>"
      ]
     },
     "execution_count": 24,
     "metadata": {},
     "output_type": "execute_result"
    }
   ],
   "source": [
    "img = decode_img(img)\n",
    "img"
   ]
  },
  {
   "cell_type": "code",
   "execution_count": 25,
   "metadata": {
    "scrolled": true
   },
   "outputs": [
    {
     "data": {
      "text/plain": [
       "<tf.Tensor: shape=(1, 64, 64, 3), dtype=float32, numpy=\n",
       "array([[[[1., 1., 1.],\n",
       "         [1., 1., 1.],\n",
       "         [1., 1., 1.],\n",
       "         ...,\n",
       "         [1., 1., 1.],\n",
       "         [1., 1., 1.],\n",
       "         [1., 1., 1.]],\n",
       "\n",
       "        [[1., 1., 1.],\n",
       "         [1., 1., 1.],\n",
       "         [1., 1., 1.],\n",
       "         ...,\n",
       "         [1., 1., 1.],\n",
       "         [1., 1., 1.],\n",
       "         [1., 1., 1.]],\n",
       "\n",
       "        [[1., 1., 1.],\n",
       "         [1., 1., 1.],\n",
       "         [1., 1., 1.],\n",
       "         ...,\n",
       "         [1., 1., 1.],\n",
       "         [1., 1., 1.],\n",
       "         [1., 1., 1.]],\n",
       "\n",
       "        ...,\n",
       "\n",
       "        [[1., 1., 1.],\n",
       "         [1., 1., 1.],\n",
       "         [1., 1., 1.],\n",
       "         ...,\n",
       "         [1., 1., 1.],\n",
       "         [1., 1., 1.],\n",
       "         [1., 1., 1.]],\n",
       "\n",
       "        [[1., 1., 1.],\n",
       "         [1., 1., 1.],\n",
       "         [1., 1., 1.],\n",
       "         ...,\n",
       "         [1., 1., 1.],\n",
       "         [1., 1., 1.],\n",
       "         [1., 1., 1.]],\n",
       "\n",
       "        [[1., 1., 1.],\n",
       "         [1., 1., 1.],\n",
       "         [1., 1., 1.],\n",
       "         ...,\n",
       "         [1., 1., 1.],\n",
       "         [1., 1., 1.],\n",
       "         [1., 1., 1.]]]], dtype=float32)>"
      ]
     },
     "execution_count": 25,
     "metadata": {},
     "output_type": "execute_result"
    }
   ],
   "source": [
    "tf.reshape(img, [1,64,64,3])"
   ]
  },
  {
   "cell_type": "code",
   "execution_count": 26,
   "metadata": {},
   "outputs": [
    {
     "data": {
      "text/plain": [
       "13"
      ]
     },
     "execution_count": 26,
     "metadata": {},
     "output_type": "execute_result"
    }
   ],
   "source": [
    "model.predict_classes(tf.reshape(img, [1,64,64,3]))[0]"
   ]
  },
  {
   "cell_type": "code",
   "execution_count": 27,
   "metadata": {},
   "outputs": [],
   "source": [
    "image_class = model.predict_classes(tf.reshape(img, [1,64,64,3]))[0]"
   ]
  },
  {
   "cell_type": "code",
   "execution_count": 39,
   "metadata": {},
   "outputs": [],
   "source": [
    "class_name = list(val_data_gen.class_indices)\n",
    "# class_name\n",
    "target = class_name[image_class]"
   ]
  },
  {
   "cell_type": "code",
   "execution_count": 40,
   "metadata": {
    "scrolled": true
   },
   "outputs": [
    {
     "data": {
      "text/plain": [
       "'Banana'"
      ]
     },
     "execution_count": 40,
     "metadata": {},
     "output_type": "execute_result"
    }
   ],
   "source": [
    "class_name[13]"
   ]
  },
  {
   "cell_type": "code",
   "execution_count": 41,
   "metadata": {},
   "outputs": [
    {
     "data": {
      "text/plain": [
       "(13, 'Banana')"
      ]
     },
     "execution_count": 41,
     "metadata": {},
     "output_type": "execute_result"
    }
   ],
   "source": [
    "image_class, target"
   ]
  },
  {
   "cell_type": "code",
   "execution_count": 42,
   "metadata": {},
   "outputs": [
    {
     "name": "stdout",
     "output_type": "stream",
     "text": [
      "cnn model predict the image is Banana\n"
     ]
    },
    {
     "data": {
      "text/plain": [
       "<matplotlib.image.AxesImage at 0x7ff0688d3cd0>"
      ]
     },
     "execution_count": 42,
     "metadata": {},
     "output_type": "execute_result"
    },
    {
     "data": {
      "image/png": "[encoded data removed]",
      "text/plain": [
       "<Figure size 432x288 with 1 Axes>"
      ]
     },
     "metadata": {
      "needs_background": "light"
     },
     "output_type": "display_data"
    }
   ],
   "source": [
    "# final print\n",
    "print(f'cnn model predict the image is {target}')\n",
    "plt.imshow(img)"
   ]
  },
  {
   "cell_type": "markdown",
   "metadata": {},
   "source": [
    "### 使用heatmap呈現confusion table"
   ]
  },
  {
   "cell_type": "code",
   "execution_count": 44,
   "metadata": {},
   "outputs": [
    {
     "name": "stdout",
     "output_type": "stream",
     "text": [
      "WARNING:tensorflow:From <ipython-input-44-ce417fad9b6e>:4: Model.predict_generator (from tensorflow.python.keras.engine.training) is deprecated and will be removed in a future version.\n",
      "Instructions for updating:\n",
      "Please use Model.predict, which supports generators.\n"
     ]
    },
    {
     "data": {
      "text/plain": [
       "Text(0.5, 69.0, 'Predicted label')"
      ]
     },
     "execution_count": 44,
     "metadata": {},
     "output_type": "execute_result"
    },
    {
     "data": {
      "image/png": "[encoded data removed]",
      "text/plain": [
       "<Figure size 720x720 with 2 Axes>"
      ]
     },
     "metadata": {
      "needs_background": "light"
     },
     "output_type": "display_data"
    }
   ],
   "source": [
    "from sklearn.metrics import classification_report, confusion_matrix\n",
    "import seaborn as sns\n",
    "\n",
    "Y_pred = model.predict_generator(val_data_gen, total_validation // batch_size+1)\n",
    "y_pred = np.argmax(Y_pred, axis=1)\n",
    "\n",
    "plt.figure(figsize=(10, 10))\n",
    "conf_mat = confusion_matrix(val_data_gen.classes, y_pred)\n",
    "sns.heatmap(conf_mat,annot=False)\n",
    "plt.ylabel('True label')\n",
    "plt.xlabel('Predicted label')\n"
   ]
  },
  {
   "cell_type": "markdown",
   "metadata": {},
   "source": [
    "### 結果說明"
   ]
  },
  {
   "cell_type": "markdown",
   "metadata": {},
   "source": [
    " 從上圖無法明顯看出我們所建立的模型的預測能力，加上每個class的資料都沒有很多，因此造成圖中數值皆低的情形，若將每項水果所有種類集合起來形成一個class(如:Apple Braeburn,Apple Crimson Snow,Apple Golden 1...集合成Apple)，將能更清楚透過heatmap辨別模型的預測能力。 "
   ]
  },
  {
   "cell_type": "code",
   "execution_count": 45,
   "metadata": {},
   "outputs": [
    {
     "name": "stdout",
     "output_type": "stream",
     "text": [
      "Requirement already satisfied: googletrans in /Users/wenruiling/opt/anaconda3/lib/python3.7/site-packages (2.4.0)\n",
      "Requirement already satisfied: requests in /Users/wenruiling/opt/anaconda3/lib/python3.7/site-packages (from googletrans) (2.22.0)\n",
      "Requirement already satisfied: idna<2.9,>=2.5 in /Users/wenruiling/opt/anaconda3/lib/python3.7/site-packages (from requests->googletrans) (2.8)\n",
      "Requirement already satisfied: urllib3!=1.25.0,!=1.25.1,<1.26,>=1.21.1 in /Users/wenruiling/opt/anaconda3/lib/python3.7/site-packages (from requests->googletrans) (1.24.2)\n",
      "Requirement already satisfied: certifi>=2017.4.17 in /Users/wenruiling/opt/anaconda3/lib/python3.7/site-packages (from requests->googletrans) (2019.9.11)\n",
      "Requirement already satisfied: chardet<3.1.0,>=3.0.2 in /Users/wenruiling/opt/anaconda3/lib/python3.7/site-packages (from requests->googletrans) (3.0.4)\n",
      "\u001b[33mWARNING: You are using pip version 20.0.2; however, version 20.1.1 is available.\n",
      "You should consider upgrading via the '/Users/wenruiling/opt/anaconda3/bin/python -m pip install --upgrade pip' command.\u001b[0m\n"
     ]
    }
   ],
   "source": [
    "!pip install googletrans"
   ]
  },
  {
   "cell_type": "code",
   "execution_count": 58,
   "metadata": {},
   "outputs": [],
   "source": [
    "# 爬蟲\n",
    "%matplotlib inline\n",
    "\n",
    "import numpy as np\n",
    "import matplotlib.pyplot as plt\n",
    "import pandas as pd\n",
    "\n",
    "#斷詞所需套件\n",
    "import jieba\n",
    "# 爬蟲所需套件\n",
    "import requests\n",
    "from bs4 import BeautifulSoup\n",
    "from googletrans import Translator\n",
    "#GUI介面-tkinter所需套件\n",
    "from tkinter import *\n",
    "import tkinter as tk\n",
    "#匯入Python Imaging Library \n",
    "from PIL import ImageTk, Image \n",
    "#檔案對話方塊所需套件\n",
    "from tkinter import filedialog\n"
   ]
  },
  {
   "cell_type": "code",
   "execution_count": 59,
   "metadata": {},
   "outputs": [],
   "source": [
    "def open_img(): \n",
    "    # 圖片檔案位置x\n",
    "    global x \n",
    "    x = openfilename() \n",
    "    # 開啟圖片 \n",
    "    img = Image.open(x) \n",
    "    # ANTIALIAS:平滑濾波，用於改變圖片尺寸  resize the image and apply a high-quality down sampling filter \n",
    "    img = img.resize((200, 200), Image.ANTIALIAS) \n",
    "    # PhotoImage:建立圖片物件，使用label顯示圖片 \n",
    "    img = ImageTk.PhotoImage(img) \n",
    "    # 創建label \n",
    "    panel = Label(window, image = img,bg='white') \n",
    "    # set the image as img \n",
    "    panel.image = img \n",
    "    panel.pack(side='left',ipadx=10, padx=1)\n",
    "    \n",
    "def identify():\n",
    "    file_path = x\n",
    "    # read file with tf.io.read_file\n",
    "    img = tf.io.read_file(file_path)\n",
    "    img = decode_img(img)\n",
    "    # identify and get the class of fruit image\n",
    "    image_class = model.predict_classes(tf.reshape(img, [1,64,64,3]))[0]\n",
    "  #  global predict_name\n",
    "    predict_name = class_name[image_class]   \n",
    "    #進行斷詞\n",
    "    list=jieba.lcut(predict_name)\n",
    "    #將大寫變小寫 \n",
    "    global target\n",
    "    target = list[0].lower()\n",
    "    # print the result of identification\n",
    "    identify_label = tk.Label(window,text=predict_name,width=10,height=10,justify='left',bg='white')\n",
    "    identify_label.pack(side='right',ipadx=10,padx=1)\n",
    "\n",
    "    \n",
    "import tkinter.ttk as ttk\n",
    "import csv\n",
    "# 讀入中文營養資訊 & 整理 & 輸出csv檔\n",
    "def OutputCSV():   \n",
    "    df = pd.read_html('https://docs.google.com/spreadsheets/d/e/2PACX-1vRACnRPosGeh5QPwLuU53UTOjbQf7uSZHnjDp2ecab8_AFE6yjaIxForntAtBahScFSCYlGh9mVhI-x/pubhtml',encoding='utf-8')\n",
    "    t1 = df[0]\n",
    "    # 調整表頭名稱\n",
    "    t1.columns=['#','分析項分類','分析項','單位','每100克含量','名稱']\n",
    "    t2 = t1.drop(\"#\",axis = 1) #刪除1st行\n",
    "    t3 = t2.drop([0],axis = 0) #刪除1st列\n",
    "    # 篩選符合target的蔬果名稱，產出新的df\n",
    "    newdf = t3[t3.名稱.str.contains(target)]\n",
    "    # 將df轉成csv檔\n",
    "    Result = r'\\Users\\wenruiling\\Downloads\\nutri_result.csv'\n",
    "    newdf.to_csv( Result )\n",
    "    \n",
    "\n",
    "OutputCSV()\n",
    "    "
   ]
  },
  {
   "cell_type": "code",
   "execution_count": 60,
   "metadata": {},
   "outputs": [],
   "source": [
    "def openfilename(): \n",
    "    # 開啟檔案對話方塊，並將檔案位置回傳\n",
    "    filename = filedialog.askopenfilename(title ='Open') \n",
    "    return filename \n",
    "\n",
    "def printSomething():\n",
    "    #爬取目標網址\n",
    "    target_name = target.lower()\n",
    "    url ='https://fruitsandveggies.org/fruits-and-veggies/'+target_name+'/'\n",
    "    resp = requests.get(url)\n",
    "    #若找不到相對網址則顯示'Could not find the relevant information'\n",
    "    if (resp.status_code == 404):\n",
    "        text = 'Sorry,we could not find the relevant information.'\n",
    "    #若找到相對網址則進行爬蟲\n",
    "    else:\n",
    "        soup = BeautifulSoup(resp.text,'lxml')\n",
    "        page = soup.find_all('div',class_='l-grid-item-medium-12')\n",
    "        \n",
    "        title = page[0].find_all('h4')\n",
    "        content = page[0].find_all('p')\n",
    "        for i in range(len(title)):\n",
    "            if(i==2):\n",
    "                text = '●'+title[i].get_text()+'\\n'+content[2].get_text()+'\\n'\n",
    "            elif(i==3):\n",
    "                text = '●'+title[i].get_text()+'\\n'+content[2].get_text()+'\\n'\n",
    "                for i in range(len(content)):\n",
    "                    if(i>2 and i<6):\n",
    "                        if(i%2 == 1):\n",
    "                            text = text + '●' + content[i].get_text() +'\\n' \n",
    "                        else:                    \n",
    "                            text = text + content[i].get_text() +'\\n' \n",
    "                    elif(i>6):\n",
    "                        if(i%2 == 0):\n",
    "                            text = text + '●' + content[i].get_text() +'\\n' \n",
    "                        else:\n",
    "                            text = text + content[i].get_text() +'\\n'\n",
    "\n",
    "    # 將所得到之內容以google翻譯翻譯成中文\n",
    "    pipi = Translator()\n",
    "    result = pipi.translate(text,dest='zh-tw')\n",
    "    result_label = tk.Label(window,text=result.text,width=50,height=50,wraplength=260,justify='left',bg='white')\n",
    "    result_label.pack(side='right',ipadx=10,padx=1)\n",
    "    "
   ]
  },
  {
   "cell_type": "code",
   "execution_count": 61,
   "metadata": {},
   "outputs": [],
   "source": [
    "# 營養資訊表格視窗\n",
    "def printNutriTable():\n",
    "    root = Tk()\n",
    "    root.title(\"Nutrition Table\")\n",
    "    width = 700\n",
    "    height = 400\n",
    "    screen_width = root.winfo_screenwidth()\n",
    "    screen_height = root.winfo_screenheight()\n",
    "    x = (screen_width / 2) - (width / 2)\n",
    "    y = (screen_height / 2) - (height / 2)\n",
    "    root.geometry(\"%dx%d+%d+%d\" % (width, height, x, y))\n",
    "    root.resizable(0, 0)\n",
    "\n",
    "    TableMargin = Frame(root, width=500)\n",
    "    TableMargin.pack(side=TOP)\n",
    "\n",
    "    scrollbarx = Scrollbar(TableMargin, orient=HORIZONTAL)\n",
    "    scrollbary = Scrollbar(TableMargin, orient=VERTICAL)\n",
    "    #設定表格尺寸與欄位名稱\n",
    "    tree = ttk.Treeview(TableMargin, columns=('分析項分類','分析項','單位','每100克含量','名稱'), height=400, selectmode=\"extended\",\n",
    "                        yscrollcommand=scrollbary.set, xscrollcommand=scrollbarx.set)\n",
    "    scrollbary.config(command=tree.yview)\n",
    "    scrollbary.pack(side=RIGHT, fill=Y)\n",
    "    scrollbarx.config(command=tree.xview)\n",
    "    scrollbarx.pack(side=BOTTOM, fill=X)\n",
    "    tree.heading('分析項分類', text='分析項分類', anchor=W)\n",
    "    tree.heading('分析項', text='分析項', anchor=W)\n",
    "    tree.heading('單位', text='單位', anchor=W)\n",
    "    tree.heading('每100克含量', text='每100克含量', anchor=W)\n",
    "    tree.heading('名稱', text='名稱', anchor=W)\n",
    "    tree.column('#0', stretch=NO, minwidth=0, width=0)\n",
    "    tree.column('#1', stretch=NO, minwidth=0, width=90) #調整表頭欄位尺寸\n",
    "    tree.column('#2', stretch=NO, minwidth=0, width=130)\n",
    "    tree.column('#3', stretch=NO, minwidth=0, width=50)\n",
    "    tree.column('#4', stretch=NO, minwidth=0, width=100)\n",
    "    tree.column('#5', stretch=NO, minwidth=0, width=160)\n",
    "    tree.pack()\n",
    "    \n",
    "   #http://passionfruittaiwan.blogspot.com/2019/01/python.html\n",
    "    # 開啟中文營養資訊csv檔\n",
    "    with open(r'\\Users\\wenruiling\\Downloads\\nutri_result.csv', 'r',encoding='utf-8') as f:\n",
    "        # 讀取中文營養資訊csv檔\n",
    "      reader = csv.DictReader(f, delimiter=',')\n",
    "    #reader = pd.read_csv(r'\\Users\\wenruiling\\Downloads\\nutri_result.csv', 'r',encoding='utf-8')\n",
    "    # 以迴圈輸出指定欄位\n",
    "      for row in reader:          \n",
    "        tag = row['分析項分類']\n",
    "        nutri = row['分析項']\n",
    "        unit = row['單位']\n",
    "        has = row['每100克含量']\n",
    "        name = row['名稱']\n",
    "        # target：欲篩選的蔬果名稱    \n",
    "        # 比對target和中文營養資訊檔案，將符合的資料插入表格中呈現\n",
    "        if target in row['名稱']: \n",
    "            tree.insert(\"\", 0, values=(tag,nutri,unit,has,name))"
   ]
  },
  {
   "cell_type": "code",
   "execution_count": 62,
   "metadata": {},
   "outputs": [],
   "source": [
    "# 創建視窗\n",
    "window = tk.Tk()\n",
    "\n",
    "# 設定視窗標題\n",
    "window.title(\"Fruit \") \n",
    "\n",
    "# 視窗大小設定及背景顏色 \n",
    "window.geometry(\"600x600\") \n",
    "window.configure(background='white')\n",
    "\n",
    "# 設定不讓使用者調整視窗大小\n",
    "window.resizable(0,0) \n",
    "\n",
    "# 新增四個按鈕\n",
    "# 1.選擇照片顯示於視窗中 \n",
    "btn1 = Button(window, text ='Open image', command = open_img)\n",
    "btn1.pack()"
   ]
  },
  {
   "cell_type": "markdown",
   "metadata": {},
   "source": [
    "1.點擊Open image按鈕以匯入待辨識之水果圖片\n",
    "![image1](./picture.png)![title](./picture2.png)"
   ]
  },
  {
   "cell_type": "code",
   "execution_count": 63,
   "metadata": {},
   "outputs": [],
   "source": [
    "# 2.辨識水果的名稱\n",
    "btn2 = Button(window, text=\"Identify\", command=identify) \n",
    "btn2.pack()"
   ]
  },
  {
   "cell_type": "markdown",
   "metadata": {},
   "source": [
    "2.點擊Identify按鈕以進行辨識，辨識完成後於視窗右方顯示辨識出之水果名稱![title](./picture3.png)"
   ]
  },
  {
   "cell_type": "code",
   "execution_count": 64,
   "metadata": {},
   "outputs": [],
   "source": [
    "# 3.顯示得到的水果營養價值資料(英文)\n",
    "btn3 = Button(window, text=\"Print Information\", command=printSomething) \n",
    "btn3.pack()"
   ]
  },
  {
   "cell_type": "markdown",
   "metadata": {},
   "source": [
    "3.點擊Print Information按鈕以爬取Fruit Nutrition Database\n",
    "（https://fruitsandveggies.org/stories/fruits/?fbclid=IwAR1Uvo9TNdaUurVImIsJgAuMB5j__u9nFp_PfzIONxHZbGrlbok-IKPEB9A）\n",
    "後整理過後之營養資訊![title](./picture4.png)"
   ]
  },
  {
   "cell_type": "code",
   "execution_count": 65,
   "metadata": {},
   "outputs": [],
   "source": [
    "# 4.顯示得到的水果營養價值資料(中文表格)\n",
    "btn4 = Button(window, text=\"Nutrition Table\", command=printNutriTable) \n",
    "btn4.pack()\n",
    "\n",
    "window.mainloop()"
   ]
  },
  {
   "cell_type": "markdown",
   "metadata": {},
   "source": [
    "4.點擊Nutrition Table按鈕以得到詳細之水果營養成分![title](./picture5.jpeg)"
   ]
  },
  {
   "cell_type": "markdown",
   "metadata": {},
   "source": [
    "### 使用者介面:\n",
    "以GUI介面呈現，將圖片輸入，即可得到營養資訊。\n"
   ]
  },
  {
   "cell_type": "markdown",
   "metadata": {},
   "source": [
    "### 實作心得:\n",
    "第一步我們利用cnn將圖片轉為水果名稱。由於Fruits 360資料量較大，我們以BinaryCrossentropy分析資料。\n",
    "第二部份我們將水果名稱轉為營養素，方便使用者分析自身所需營養素有無達標，熱量是否不足或超標。營養素分為需求量較大的宏量營養素和需求量較小的微量營養素。其中宏量營養素包括碳水化合物、脂肪、纖維素、蛋白質以及水，我們選用有熱量之碳水化合物、脂肪以及蛋白質作為代表；微量營養素包 含礦物質和維生素，我們運用爬蟲篩選出大眾較為重視之維生素與礦物質，去掉\"每一百克含量\"為零的欄位，保留一般包裝上易懂的類別。\n"
   ]
  },
  {
   "cell_type": "markdown",
   "metadata": {},
   "source": [
    "### 結論:\n",
    "現代人生活忙碌，普遍外食，也想兼顧健康營養。將圖片轉為營養資訊，衡量已攝取或將攝取之營養素，將解決現代人沒有多餘時間計算均衡飲食之常態。\n",
    "\n"
   ]
  },
  {
   "cell_type": "code",
   "execution_count": null,
   "metadata": {},
   "outputs": [],
   "source": []
  },
  {
   "cell_type": "code",
   "execution_count": null,
   "metadata": {},
   "outputs": [],
   "source": []
  }
 ],
 "metadata": {
  "kernelspec": {
   "display_name": "Python 3",
   "language": "python",
   "name": "python3"
  },
  "language_info": {
   "codemirror_mode": {
    "name": "ipython",
    "version": 3
   },
   "file_extension": ".py",
   "mimetype": "text/x-python",
   "name": "python",
   "nbconvert_exporter": "python",
   "pygments_lexer": "ipython3",
   "version": "3.8.5"
  },
  "toc": {
   "base_numbering": 1,
   "nav_menu": {},
   "number_sections": true,
   "sideBar": true,
   "skip_h1_title": false,
   "title_cell": "Table of Contents",
   "title_sidebar": "Contents",
   "toc_cell": false,
   "toc_position": {},
   "toc_section_display": true,
   "toc_window_display": false
  },
  "varInspector": {
   "cols": {
    "lenName": 16,
    "lenType": 16,
    "lenVar": 40
   },
   "kernels_config": {
    "python": {
     "delete_cmd_postfix": "",
     "delete_cmd_prefix": "del ",
     "library": "var_list.py",
     "varRefreshCmd": "print(var_dic_list())"
    },
    "r": {
     "delete_cmd_postfix": ") ",
     "delete_cmd_prefix": "rm(",
     "library": "var_list.r",
     "varRefreshCmd": "cat(var_dic_list()) "
    }
   },
   "types_to_exclude": [
    "module",
    "function",
    "builtin_function_or_method",
    "instance",
    "_Feature"
   ],
   "window_display": false
  }
 },
 "nbformat": 4,
 "nbformat_minor": 2
}
